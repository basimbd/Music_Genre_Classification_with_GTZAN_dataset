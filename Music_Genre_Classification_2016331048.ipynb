{
  "nbformat": 4,
  "nbformat_minor": 0,
  "metadata": {
    "colab": {
      "name": "Music_Genre_Classification.ipynb",
      "provenance": [],
      "collapsed_sections": [
        "3xj1nOtMyNj1",
        "lbnOZEeg2MD5",
        "2m3p3ewqnNou",
        "zvPxopq_ySi0",
        "R4_h0h2hy_cD",
        "n34gWhr1zJr4",
        "dim2CFfuzQ7-",
        "uQyGvvGezo2b",
        "ccjvvdXjz4db"
      ]
    },
    "kernelspec": {
      "name": "python3",
      "display_name": "Python 3"
    },
    "language_info": {
      "name": "python"
    },
    "accelerator": "GPU"
  },
  "cells": [
    {
      "cell_type": "code",
      "metadata": {
        "id": "RJTLjDHOQpv3"
      },
      "source": [
        "!pip install python_speech_features"
      ],
      "execution_count": null,
      "outputs": []
    },
    {
      "cell_type": "markdown",
      "metadata": {
        "id": "3xj1nOtMyNj1"
      },
      "source": [
        "# Imports"
      ]
    },
    {
      "cell_type": "code",
      "metadata": {
        "id": "MhX79t90t0jF"
      },
      "source": [
        "from python_speech_features import mfcc\n",
        "import scipy.io.wavfile as wav\n",
        "import numpy as np\n",
        "\n",
        "from tempfile import TemporaryFile\n",
        "import os\n",
        "import pickle\n",
        "import random \n",
        "import operator\n",
        "\n",
        "import math\n",
        "import numpy as np\n",
        "from collections import defaultdict"
      ],
      "execution_count": 2,
      "outputs": []
    },
    {
      "cell_type": "markdown",
      "metadata": {
        "id": "lbnOZEeg2MD5"
      },
      "source": [
        "#Connect To Drive"
      ]
    },
    {
      "cell_type": "code",
      "metadata": {
        "colab": {
          "base_uri": "https://localhost:8080/"
        },
        "id": "p5HtgWRi2Omw",
        "outputId": "7b6fa5d0-b96b-4ea1-836f-4369717f36f0"
      },
      "source": [
        "from google.colab import drive\n",
        "drive.mount('/content/drive/')"
      ],
      "execution_count": 3,
      "outputs": [
        {
          "output_type": "stream",
          "text": [
            "Mounted at /content/drive/\n"
          ],
          "name": "stdout"
        }
      ]
    },
    {
      "cell_type": "markdown",
      "metadata": {
        "id": "2m3p3ewqnNou"
      },
      "source": [
        "# Get Distance"
      ]
    },
    {
      "cell_type": "code",
      "metadata": {
        "id": "0MVlAusVnRF1"
      },
      "source": [
        "def distance(instance1 , instance2 , k ):\n",
        "    distance =0 \n",
        "    mm1 = instance1[0] \n",
        "    cm1 = instance1[1]\n",
        "    mm2 = instance2[0]\n",
        "    cm2 = instance2[1]\n",
        "    distance = np.trace(np.dot(np.linalg.inv(cm2), cm1)) \n",
        "    distance+=(np.dot(np.dot((mm2-mm1).transpose() , np.linalg.inv(cm2)) , mm2-mm1 )) \n",
        "    distance+= np.log(np.linalg.det(cm2)) - np.log(np.linalg.det(cm1))\n",
        "    distance-= k\n",
        "    return distance"
      ],
      "execution_count": 4,
      "outputs": []
    },
    {
      "cell_type": "markdown",
      "metadata": {
        "id": "zvPxopq_ySi0"
      },
      "source": [
        "# Get Neighbors"
      ]
    },
    {
      "cell_type": "code",
      "metadata": {
        "id": "848I6K14ygzE"
      },
      "source": [
        "def getNeighbors(trainingSet, instance, k):\n",
        "    distances = []\n",
        "\n",
        "    for x in range (len(trainingSet)):\n",
        "        dist = distance(trainingSet[x], instance, k )+ distance(instance, trainingSet[x], k)\n",
        "        distances.append((trainingSet[x][2], dist))\n",
        "    \n",
        "    distances.sort(key=operator.itemgetter(1))\n",
        "    neighbors = []\n",
        "    \n",
        "    for x in range(k):\n",
        "        neighbors.append(distances[x][0])\n",
        "    return neighbors"
      ],
      "execution_count": 5,
      "outputs": []
    },
    {
      "cell_type": "markdown",
      "metadata": {
        "id": "R4_h0h2hy_cD"
      },
      "source": [
        "# Nearest Neighbors"
      ]
    },
    {
      "cell_type": "code",
      "metadata": {
        "id": "RpY2w-tDzCG8"
      },
      "source": [
        "def nearestClass(neighbors):\n",
        "    classVote = {}\n",
        "\n",
        "    for x in range(len(neighbors)):\n",
        "        response = neighbors[x]\n",
        "        if response in classVote:\n",
        "            classVote[response]+=1 \n",
        "        else:\n",
        "            classVote[response]=1\n",
        "\n",
        "    sorter = sorted(classVote.items(), key = operator.itemgetter(1), reverse=True)\n",
        "    return sorter[0][0]"
      ],
      "execution_count": 6,
      "outputs": []
    },
    {
      "cell_type": "markdown",
      "metadata": {
        "id": "n34gWhr1zJr4"
      },
      "source": [
        "# Evaluation"
      ]
    },
    {
      "cell_type": "code",
      "metadata": {
        "id": "qlg6KObtzNYt"
      },
      "source": [
        "def getAccuracy(dataset, predictions):\n",
        "    correct = 0 \n",
        "    for x in range (len(dataset)):\n",
        "        if dataset[x][-1]==predictions[x]:\n",
        "            correct+=1\n",
        "    return 1.0*correct/len(dataset)"
      ],
      "execution_count": 7,
      "outputs": []
    },
    {
      "cell_type": "markdown",
      "metadata": {
        "id": "dim2CFfuzQ7-"
      },
      "source": [
        "# Feature Extraction"
      ]
    },
    {
      "cell_type": "code",
      "metadata": {
        "id": "Of9faC0KzdKk"
      },
      "source": [
        "directory = \"/content/drive/My Drive/ML/genres/\"\n",
        "f= open(\"my.dat\" ,'wb')\n",
        "i=0\n",
        "\n",
        "for folder in os.listdir(directory):\n",
        "    i+=1\n",
        "    if i==11 :\n",
        "        break \t\n",
        "    for file in os.listdir(directory+folder):\t\n",
        "        (rate,sig) = wav.read(directory+folder+\"/\"+file)\n",
        "        mfcc_feat = mfcc(sig,rate ,winlen=0.020, appendEnergy = False)\n",
        "        covariance = np.cov(np.matrix.transpose(mfcc_feat))\n",
        "        mean_matrix = mfcc_feat.mean(0)\n",
        "        feature = (mean_matrix , covariance , i)\n",
        "        pickle.dump(feature , f)\n",
        "\n",
        "f.close()"
      ],
      "execution_count": 8,
      "outputs": []
    },
    {
      "cell_type": "markdown",
      "metadata": {
        "id": "uQyGvvGezo2b"
      },
      "source": [
        "# Train-Test Split"
      ]
    },
    {
      "cell_type": "code",
      "metadata": {
        "id": "AMRj8B0nzrAc"
      },
      "source": [
        "dataset = []\n",
        "def loadDataset(filename , split , trSet , teSet):\n",
        "    with open(\"my.dat\" , 'rb') as f:\n",
        "        while True:\n",
        "            try:\n",
        "                dataset.append(pickle.load(f))\n",
        "            except EOFError:\n",
        "                f.close()\n",
        "                break\t\n",
        "\n",
        "    for x in range(len(dataset)):\n",
        "        if random.random() <split :\t\t\t\n",
        "            trSet.append(dataset[x])\n",
        "        else:\n",
        "            teSet.append(dataset[x])\t\n",
        "\n",
        "trainingSet = []\n",
        "testSet = []\n",
        "loadDataset(\"my.dat\" , 0.85, trainingSet, testSet)"
      ],
      "execution_count": 20,
      "outputs": []
    },
    {
      "cell_type": "markdown",
      "metadata": {
        "id": "ccjvvdXjz4db"
      },
      "source": [
        "# Make Prediction"
      ]
    },
    {
      "cell_type": "code",
      "metadata": {
        "colab": {
          "base_uri": "https://localhost:8080/"
        },
        "id": "fxH1DYyoz5-s",
        "outputId": "f90190e7-759f-4392-e926-883c1dfefedb"
      },
      "source": [
        "leng_test = len(testSet)\n",
        "\n",
        "predictions_test = []\n",
        "for x in range (leng_test):\n",
        "    predictions_test.append(nearestClass(getNeighbors(trainingSet ,testSet[x] , 3))) \n",
        "\n",
        "accuracyTest = getAccuracy(testSet , predictions_test)\n",
        "print(accuracyTest)"
      ],
      "execution_count": 21,
      "outputs": [
        {
          "output_type": "stream",
          "text": [
            "0.7465753424657534\n"
          ],
          "name": "stdout"
        }
      ]
    },
    {
      "cell_type": "markdown",
      "metadata": {
        "id": "-N0Cf72KrtGe"
      },
      "source": [
        "# Predict Genre"
      ]
    },
    {
      "cell_type": "code",
      "metadata": {
        "colab": {
          "base_uri": "https://localhost:8080/"
        },
        "id": "9MZXjM5mr9g7",
        "outputId": "4d1d4496-5201-492d-fd3b-954b3797ece7"
      },
      "source": [
        "results=defaultdict(int)\n",
        "\n",
        "i=1\n",
        "for folder in os.listdir('/content/drive/My Drive/ML/genres'):\n",
        "    results[i]=folder\n",
        "    i+=1\n",
        "\n",
        "(rate,sig)=wav.read('/content/drive/MyDrive/ML/test_audios/Artcell_Tomake.wav')\n",
        "mfcc_feat=mfcc(sig,rate,winlen=0.020,appendEnergy=False)\n",
        "covariance = np.cov(np.matrix.transpose(mfcc_feat))\n",
        "mean_matrix = mfcc_feat.mean(0)\n",
        "feature=(mean_matrix,covariance,0)\n",
        "\n",
        "pred=nearestClass(getNeighbors(dataset ,feature , 3))\n",
        "\n",
        "print(results[pred])"
      ],
      "execution_count": 30,
      "outputs": [
        {
          "output_type": "stream",
          "text": [
            "classical\n"
          ],
          "name": "stdout"
        }
      ]
    },
    {
      "cell_type": "code",
      "metadata": {
        "id": "j46AzFZ6RPFh"
      },
      "source": [
        ""
      ],
      "execution_count": null,
      "outputs": []
    }
  ]
}